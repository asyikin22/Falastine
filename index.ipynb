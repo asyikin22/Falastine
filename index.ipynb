{
 "cells": [
  {
   "cell_type": "code",
   "execution_count": 1,
   "id": "4013abd7",
   "metadata": {},
   "outputs": [
    {
     "data": {
      "application/vnd.microsoft.datawrangler.viewer.v0+json": {
       "columns": [
        {
         "name": "index",
         "rawType": "int64",
         "type": "integer"
        },
        {
         "name": "#",
         "rawType": "int64",
         "type": "integer"
        },
        {
         "name": "Company Name",
         "rawType": "object",
         "type": "string"
        },
        {
         "name": "Traded In",
         "rawType": "object",
         "type": "string"
        },
        {
         "name": "Main Headquaters",
         "rawType": "object",
         "type": "unknown"
        },
        {
         "name": "Involvement",
         "rawType": "object",
         "type": "string"
        },
        {
         "name": "Sector",
         "rawType": "object",
         "type": "string"
        },
        {
         "name": "Revenue",
         "rawType": "object",
         "type": "unknown"
        },
        {
         "name": "Region",
         "rawType": "object",
         "type": "unknown"
        }
       ],
       "ref": "1610c9ef-b025-4876-9976-3e4507a9f7cf",
       "rows": [
        [
         "0",
         "1",
         "American President Lines",
         "Subsidiary of Public",
         null,
         "Population Control, Specialized Equipment and Services",
         "Transportation",
         "$1B-$5B",
         null
        ],
        [
         "1",
         "2",
         "Volvo Group (AB Volvo)",
         "Public",
         "Sweden",
         "Israeli Construction on Occupied Land, Population Control, Services to the Settlements, Specialized Equipment and Services, The Wall and Checkpoints",
         "Heavy Machinery, Transportation",
         "$50B-$100B",
         "East Jerusalem, Naqab, West Bank"
        ],
        [
         "2",
         "3",
         "Maersk (Mærsk) ",
         "Public",
         "Denmark",
         "Services to the Settlements, Specialized Equipment and Services",
         "Transportation",
         "$50B-$100B",
         "Gaza, West Bank"
        ],
        [
         "3",
         "4",
         "Mayer Cars & Trucks Co.",
         "Private",
         "Israel",
         "Population Control, Services to the Settlements, Settlement Enterprise, Specialized Equipment and Services",
         "Heavy Machinery, Transportation",
         "$1B-$9B",
         "East Jerusalem, West Bank"
        ],
        [
         "4",
         "5",
         "Tripadvisor, Inc.",
         "NASDAQ, Public",
         "USA",
         "Services to the Settlements, Settlement Enterprise",
         "Tourism",
         "$1B-$5B",
         "East Jerusalem, Jordan Valley, Syrian Golan, West Bank"
        ],
        [
         "5",
         "6",
         "One Software Technologies",
         "TASE",
         "Israel",
         "Specialized Equipment and Services, The Wall and Checkpoints",
         "Hi-tech, Military, Security and Surveillance",
         "$1B-$5B",
         "Gaza, Naqab, West Bank"
        ],
        [
         "6",
         "7",
         "RE/MAX Israel (Impact Property Developers) ",
         "Private",
         "Israel",
         "Services to the Settlements",
         "Real Estate",
         null,
         "East Jerusalem, Syrian Golan, West Bank"
        ],
        [
         "7",
         "8",
         "Natoon Nof Yam Security ",
         "Private",
         "Israel",
         "Private Security and Surveillance Technology, Services to the Settlements",
         "Military, Security and Surveillance",
         null,
         "West Bank"
        ],
        [
         "8",
         "9",
         "Mikud Guarding (Mikud Group)",
         "Private",
         "Israel",
         "Private Security and Surveillance Technology, Services to the Settlements, Specialized Equipment and Services",
         "Military, Security and Surveillance",
         null,
         "East Jerusalem, West Bank"
        ],
        [
         "9",
         "10",
         "Leonardo S.p.A ",
         "BIT",
         "Italy",
         "Population Control, Specialized Equipment and Services",
         "Military, Security and Surveillance",
         "$10B-$20B",
         "Gaza"
        ]
       ],
       "shape": {
        "columns": 8,
        "rows": 10
       }
      },
      "text/html": [
       "<div>\n",
       "<style scoped>\n",
       "    .dataframe tbody tr th:only-of-type {\n",
       "        vertical-align: middle;\n",
       "    }\n",
       "\n",
       "    .dataframe tbody tr th {\n",
       "        vertical-align: top;\n",
       "    }\n",
       "\n",
       "    .dataframe thead th {\n",
       "        text-align: right;\n",
       "    }\n",
       "</style>\n",
       "<table border=\"1\" class=\"dataframe\">\n",
       "  <thead>\n",
       "    <tr style=\"text-align: right;\">\n",
       "      <th></th>\n",
       "      <th>#</th>\n",
       "      <th>Company Name</th>\n",
       "      <th>Traded In</th>\n",
       "      <th>Main Headquaters</th>\n",
       "      <th>Involvement</th>\n",
       "      <th>Sector</th>\n",
       "      <th>Revenue</th>\n",
       "      <th>Region</th>\n",
       "    </tr>\n",
       "  </thead>\n",
       "  <tbody>\n",
       "    <tr>\n",
       "      <th>0</th>\n",
       "      <td>1</td>\n",
       "      <td>American President Lines</td>\n",
       "      <td>Subsidiary of Public</td>\n",
       "      <td>NaN</td>\n",
       "      <td>Population Control, Specialized Equipment and ...</td>\n",
       "      <td>Transportation</td>\n",
       "      <td>$1B-$5B</td>\n",
       "      <td>NaN</td>\n",
       "    </tr>\n",
       "    <tr>\n",
       "      <th>1</th>\n",
       "      <td>2</td>\n",
       "      <td>Volvo Group (AB Volvo)</td>\n",
       "      <td>Public</td>\n",
       "      <td>Sweden</td>\n",
       "      <td>Israeli Construction on Occupied Land, Populat...</td>\n",
       "      <td>Heavy Machinery, Transportation</td>\n",
       "      <td>$50B-$100B</td>\n",
       "      <td>East Jerusalem, Naqab, West Bank</td>\n",
       "    </tr>\n",
       "    <tr>\n",
       "      <th>2</th>\n",
       "      <td>3</td>\n",
       "      <td>Maersk (Mærsk)</td>\n",
       "      <td>Public</td>\n",
       "      <td>Denmark</td>\n",
       "      <td>Services to the Settlements, Specialized Equip...</td>\n",
       "      <td>Transportation</td>\n",
       "      <td>$50B-$100B</td>\n",
       "      <td>Gaza, West Bank</td>\n",
       "    </tr>\n",
       "    <tr>\n",
       "      <th>3</th>\n",
       "      <td>4</td>\n",
       "      <td>Mayer Cars &amp; Trucks Co.</td>\n",
       "      <td>Private</td>\n",
       "      <td>Israel</td>\n",
       "      <td>Population Control, Services to the Settlement...</td>\n",
       "      <td>Heavy Machinery, Transportation</td>\n",
       "      <td>$1B-$9B</td>\n",
       "      <td>East Jerusalem, West Bank</td>\n",
       "    </tr>\n",
       "    <tr>\n",
       "      <th>4</th>\n",
       "      <td>5</td>\n",
       "      <td>Tripadvisor, Inc.</td>\n",
       "      <td>NASDAQ, Public</td>\n",
       "      <td>USA</td>\n",
       "      <td>Services to the Settlements, Settlement Enterp...</td>\n",
       "      <td>Tourism</td>\n",
       "      <td>$1B-$5B</td>\n",
       "      <td>East Jerusalem, Jordan Valley, Syrian Golan, W...</td>\n",
       "    </tr>\n",
       "    <tr>\n",
       "      <th>5</th>\n",
       "      <td>6</td>\n",
       "      <td>One Software Technologies</td>\n",
       "      <td>TASE</td>\n",
       "      <td>Israel</td>\n",
       "      <td>Specialized Equipment and Services, The Wall a...</td>\n",
       "      <td>Hi-tech, Military, Security and Surveillance</td>\n",
       "      <td>$1B-$5B</td>\n",
       "      <td>Gaza, Naqab, West Bank</td>\n",
       "    </tr>\n",
       "    <tr>\n",
       "      <th>6</th>\n",
       "      <td>7</td>\n",
       "      <td>RE/MAX Israel (Impact Property Developers)</td>\n",
       "      <td>Private</td>\n",
       "      <td>Israel</td>\n",
       "      <td>Services to the Settlements</td>\n",
       "      <td>Real Estate</td>\n",
       "      <td>NaN</td>\n",
       "      <td>East Jerusalem, Syrian Golan, West Bank</td>\n",
       "    </tr>\n",
       "    <tr>\n",
       "      <th>7</th>\n",
       "      <td>8</td>\n",
       "      <td>Natoon Nof Yam Security</td>\n",
       "      <td>Private</td>\n",
       "      <td>Israel</td>\n",
       "      <td>Private Security and Surveillance Technology, ...</td>\n",
       "      <td>Military, Security and Surveillance</td>\n",
       "      <td>NaN</td>\n",
       "      <td>West Bank</td>\n",
       "    </tr>\n",
       "    <tr>\n",
       "      <th>8</th>\n",
       "      <td>9</td>\n",
       "      <td>Mikud Guarding (Mikud Group)</td>\n",
       "      <td>Private</td>\n",
       "      <td>Israel</td>\n",
       "      <td>Private Security and Surveillance Technology, ...</td>\n",
       "      <td>Military, Security and Surveillance</td>\n",
       "      <td>NaN</td>\n",
       "      <td>East Jerusalem, West Bank</td>\n",
       "    </tr>\n",
       "    <tr>\n",
       "      <th>9</th>\n",
       "      <td>10</td>\n",
       "      <td>Leonardo S.p.A</td>\n",
       "      <td>BIT</td>\n",
       "      <td>Italy</td>\n",
       "      <td>Population Control, Specialized Equipment and ...</td>\n",
       "      <td>Military, Security and Surveillance</td>\n",
       "      <td>$10B-$20B</td>\n",
       "      <td>Gaza</td>\n",
       "    </tr>\n",
       "  </tbody>\n",
       "</table>\n",
       "</div>"
      ],
      "text/plain": [
       "    #                                 Company Name             Traded In  \\\n",
       "0   1                     American President Lines  Subsidiary of Public   \n",
       "1   2                       Volvo Group (AB Volvo)                Public   \n",
       "2   3                              Maersk (Mærsk)                 Public   \n",
       "3   4                      Mayer Cars & Trucks Co.               Private   \n",
       "4   5                            Tripadvisor, Inc.        NASDAQ, Public   \n",
       "5   6                    One Software Technologies                  TASE   \n",
       "6   7  RE/MAX Israel (Impact Property Developers)                Private   \n",
       "7   8                     Natoon Nof Yam Security                Private   \n",
       "8   9                 Mikud Guarding (Mikud Group)               Private   \n",
       "9  10                              Leonardo S.p.A                    BIT   \n",
       "\n",
       "  Main Headquaters                                        Involvement  \\\n",
       "0              NaN  Population Control, Specialized Equipment and ...   \n",
       "1           Sweden  Israeli Construction on Occupied Land, Populat...   \n",
       "2          Denmark  Services to the Settlements, Specialized Equip...   \n",
       "3           Israel  Population Control, Services to the Settlement...   \n",
       "4              USA  Services to the Settlements, Settlement Enterp...   \n",
       "5           Israel  Specialized Equipment and Services, The Wall a...   \n",
       "6           Israel                        Services to the Settlements   \n",
       "7           Israel  Private Security and Surveillance Technology, ...   \n",
       "8           Israel  Private Security and Surveillance Technology, ...   \n",
       "9            Italy  Population Control, Specialized Equipment and ...   \n",
       "\n",
       "                                         Sector     Revenue  \\\n",
       "0                                Transportation     $1B-$5B   \n",
       "1               Heavy Machinery, Transportation  $50B-$100B   \n",
       "2                                Transportation  $50B-$100B   \n",
       "3               Heavy Machinery, Transportation     $1B-$9B   \n",
       "4                                       Tourism     $1B-$5B   \n",
       "5  Hi-tech, Military, Security and Surveillance     $1B-$5B   \n",
       "6                                   Real Estate         NaN   \n",
       "7           Military, Security and Surveillance         NaN   \n",
       "8           Military, Security and Surveillance         NaN   \n",
       "9           Military, Security and Surveillance   $10B-$20B   \n",
       "\n",
       "                                              Region  \n",
       "0                                                NaN  \n",
       "1                   East Jerusalem, Naqab, West Bank  \n",
       "2                                    Gaza, West Bank  \n",
       "3                          East Jerusalem, West Bank  \n",
       "4  East Jerusalem, Jordan Valley, Syrian Golan, W...  \n",
       "5                             Gaza, Naqab, West Bank  \n",
       "6            East Jerusalem, Syrian Golan, West Bank  \n",
       "7                                          West Bank  \n",
       "8                          East Jerusalem, West Bank  \n",
       "9                                               Gaza  "
      ]
     },
     "execution_count": 1,
     "metadata": {},
     "output_type": "execute_result"
    }
   ],
   "source": [
    "import pandas as pd\n",
    "df = pd.read_excel(\"Companies_WhoProfits.xlsx\")\n",
    "df.head(10)\n"
   ]
  },
  {
   "cell_type": "code",
   "execution_count": 3,
   "id": "594a2763",
   "metadata": {},
   "outputs": [
    {
     "name": "stdout",
     "output_type": "stream",
     "text": [
      "<class 'pandas.core.frame.DataFrame'>\n",
      "RangeIndex: 464 entries, 0 to 463\n",
      "Data columns (total 8 columns):\n",
      " #   Column            Non-Null Count  Dtype \n",
      "---  ------            --------------  ----- \n",
      " 0   #                 464 non-null    int64 \n",
      " 1   Company Name      464 non-null    object\n",
      " 2   Traded In         459 non-null    object\n",
      " 3   Main Headquaters  461 non-null    object\n",
      " 4   Involvement       464 non-null    object\n",
      " 5   Sector            462 non-null    object\n",
      " 6   Revenue           336 non-null    object\n",
      " 7   Region            425 non-null    object\n",
      "dtypes: int64(1), object(7)\n",
      "memory usage: 29.1+ KB\n"
     ]
    }
   ],
   "source": [
    "df.info()"
   ]
  },
  {
   "cell_type": "code",
   "execution_count": 9,
   "id": "f6271460",
   "metadata": {},
   "outputs": [
    {
     "data": {
      "text/plain": [
       "Index(['#', 'Company Name', 'Traded In', 'Main Headquaters', 'Involvement',\n",
       "       'Sector', 'Revenue', 'Region'],\n",
       "      dtype='object')"
      ]
     },
     "execution_count": 9,
     "metadata": {},
     "output_type": "execute_result"
    }
   ],
   "source": [
    "df.columns"
   ]
  },
  {
   "cell_type": "code",
   "execution_count": 10,
   "id": "a4ed661a",
   "metadata": {},
   "outputs": [
    {
     "data": {
      "application/vnd.microsoft.datawrangler.viewer.v0+json": {
       "columns": [
        {
         "name": "index",
         "rawType": "object",
         "type": "string"
        },
        {
         "name": "#",
         "rawType": "float64",
         "type": "float"
        }
       ],
       "ref": "4b04fe59-9aea-431f-984a-14205bebefcf",
       "rows": [
        [
         "count",
         "464.0"
        ],
        [
         "mean",
         "232.5"
        ],
        [
         "std",
         "134.08952233489387"
        ],
        [
         "min",
         "1.0"
        ],
        [
         "25%",
         "116.75"
        ],
        [
         "50%",
         "232.5"
        ],
        [
         "75%",
         "348.25"
        ],
        [
         "max",
         "464.0"
        ]
       ],
       "shape": {
        "columns": 1,
        "rows": 8
       }
      },
      "text/html": [
       "<div>\n",
       "<style scoped>\n",
       "    .dataframe tbody tr th:only-of-type {\n",
       "        vertical-align: middle;\n",
       "    }\n",
       "\n",
       "    .dataframe tbody tr th {\n",
       "        vertical-align: top;\n",
       "    }\n",
       "\n",
       "    .dataframe thead th {\n",
       "        text-align: right;\n",
       "    }\n",
       "</style>\n",
       "<table border=\"1\" class=\"dataframe\">\n",
       "  <thead>\n",
       "    <tr style=\"text-align: right;\">\n",
       "      <th></th>\n",
       "      <th>#</th>\n",
       "    </tr>\n",
       "  </thead>\n",
       "  <tbody>\n",
       "    <tr>\n",
       "      <th>count</th>\n",
       "      <td>464.000000</td>\n",
       "    </tr>\n",
       "    <tr>\n",
       "      <th>mean</th>\n",
       "      <td>232.500000</td>\n",
       "    </tr>\n",
       "    <tr>\n",
       "      <th>std</th>\n",
       "      <td>134.089522</td>\n",
       "    </tr>\n",
       "    <tr>\n",
       "      <th>min</th>\n",
       "      <td>1.000000</td>\n",
       "    </tr>\n",
       "    <tr>\n",
       "      <th>25%</th>\n",
       "      <td>116.750000</td>\n",
       "    </tr>\n",
       "    <tr>\n",
       "      <th>50%</th>\n",
       "      <td>232.500000</td>\n",
       "    </tr>\n",
       "    <tr>\n",
       "      <th>75%</th>\n",
       "      <td>348.250000</td>\n",
       "    </tr>\n",
       "    <tr>\n",
       "      <th>max</th>\n",
       "      <td>464.000000</td>\n",
       "    </tr>\n",
       "  </tbody>\n",
       "</table>\n",
       "</div>"
      ],
      "text/plain": [
       "                #\n",
       "count  464.000000\n",
       "mean   232.500000\n",
       "std    134.089522\n",
       "min      1.000000\n",
       "25%    116.750000\n",
       "50%    232.500000\n",
       "75%    348.250000\n",
       "max    464.000000"
      ]
     },
     "execution_count": 10,
     "metadata": {},
     "output_type": "execute_result"
    }
   ],
   "source": [
    "df.describe()"
   ]
  },
  {
   "cell_type": "code",
   "execution_count": 12,
   "id": "33e366fe",
   "metadata": {},
   "outputs": [
    {
     "data": {
      "application/vnd.microsoft.datawrangler.viewer.v0+json": {
       "columns": [
        {
         "name": "index",
         "rawType": "object",
         "type": "string"
        },
        {
         "name": "0",
         "rawType": "int64",
         "type": "integer"
        }
       ],
       "ref": "07234c2a-86a1-4558-b405-09a37e011318",
       "rows": [
        [
         "#",
         "0"
        ],
        [
         "Company Name",
         "0"
        ],
        [
         "Traded In",
         "5"
        ],
        [
         "Main Headquaters",
         "3"
        ],
        [
         "Involvement",
         "0"
        ],
        [
         "Sector",
         "2"
        ],
        [
         "Revenue",
         "128"
        ],
        [
         "Region",
         "39"
        ]
       ],
       "shape": {
        "columns": 1,
        "rows": 8
       }
      },
      "text/plain": [
       "#                     0\n",
       "Company Name          0\n",
       "Traded In             5\n",
       "Main Headquaters      3\n",
       "Involvement           0\n",
       "Sector                2\n",
       "Revenue             128\n",
       "Region               39\n",
       "dtype: int64"
      ]
     },
     "execution_count": 12,
     "metadata": {},
     "output_type": "execute_result"
    }
   ],
   "source": [
    "# check for missing values\n",
    "\n",
    "df.isnull().sum()"
   ]
  },
  {
   "cell_type": "code",
   "execution_count": 13,
   "id": "06137d34",
   "metadata": {},
   "outputs": [
    {
     "name": "stdout",
     "output_type": "stream",
     "text": [
      "[nan 'East Jerusalem, Naqab, West Bank' 'Gaza, West Bank'\n",
      " 'East Jerusalem, West Bank'\n",
      " 'East Jerusalem, Jordan Valley, Syrian Golan, West Bank'\n",
      " 'Gaza, Naqab, West Bank' 'East Jerusalem, Syrian Golan, West Bank'\n",
      " 'West Bank' 'Gaza' 'Naqab, Syrian Golan, West Bank'\n",
      " 'East Jerusalem, Gaza, Syrian Golan, West Bank' 'Syrian Golan, West Bank'\n",
      " 'East Jerusalem' 'East Jerusalem, Gaza, Naqab, West Bank'\n",
      " 'East Jerusalem, Gaza, Naqab, Syrian Golan'\n",
      " 'East Jerusalem, Gaza, Naqab, Syrian Golan, West Bank'\n",
      " 'East Jerusalem, Naqab, Syrian Golan, West Bank'\n",
      " 'East Jerusalem, Jordan Valley, Naqab, Syrian Golan, West Bank'\n",
      " 'East Jerusalem, Gaza, West Bank' 'East Jerusalem, Naqab' 'Jordan Valley'\n",
      " 'Naqab, Syrian Golan' 'Syrian Golan'\n",
      " 'Jordan Valley, Syrian Golan, West Bank' 'Naqab, West Bank'\n",
      " 'Gaza, Syrian Golan, West Bank' 'Gaza, Syrian Golan'\n",
      " 'Jordan Valley, West Bank' 'East Jerusalem, Gaza, Syrian Golan'\n",
      " 'Gaza, Jordan Valley, Syrian Golan, West Bank'\n",
      " 'Gaza, Naqab, Syrian Golan, West Bank']\n"
     ]
    }
   ],
   "source": [
    "#check for unqiue values\n",
    "print(df['Region'].unique())"
   ]
  },
  {
   "cell_type": "code",
   "execution_count": 14,
   "id": "bb741dde",
   "metadata": {},
   "outputs": [
    {
     "name": "stdout",
     "output_type": "stream",
     "text": [
      "['Transportation' 'Heavy Machinery, Transportation' 'Tourism'\n",
      " 'Hi-tech, Military, Security and Surveillance' 'Real Estate'\n",
      " 'Military, Security and Surveillance' 'Food Industry' 'Communication'\n",
      " 'Construction' 'Electricity, Gas and Water Supply'\n",
      " 'Electricity, Gas and Water Supply, Renewable Energy'\n",
      " 'Heavy Machinery, Other'\n",
      " 'Industrial Manufacturing, Service Industry and Retail' 'Finance'\n",
      " 'Food Industry, Service Industry and Retail'\n",
      " 'Heavy Machinery, Industrial Manufacturing' 'Construction, Real Estate'\n",
      " 'Construction, Real Estate, Transportation' 'Pharmaceutical'\n",
      " 'Construction, Electricity, Gas and Water Supply, Real Estate'\n",
      " 'Communication, Hi-tech' 'Heavy Machinery' 'Service Industry and Retail'\n",
      " 'Industrial Manufacturing' 'Hi-tech'\n",
      " 'Industrial Manufacturing, Military, Security and Surveillance' 'Other'\n",
      " 'Construction, Waste Management'\n",
      " 'Construction, Electricity, Gas and Water Supply, Transportation'\n",
      " 'Heavy Machinery, Military, Security and Surveillance'\n",
      " 'Communication, Military, Security and Surveillance'\n",
      " 'Construction, Transportation' 'Industrial Manufacturing, Transportation'\n",
      " 'Renewable Energy' 'Construction, Real Estate, Renewable Energy'\n",
      " 'Electricity, Gas and Water Supply, Food Industry'\n",
      " 'Agriculture and Agrotechnology, Food Industry'\n",
      " 'Hi-tech, Waste Management'\n",
      " 'Finance, Service Industry and Retail, Tourism'\n",
      " 'Communication, Food Industry, Service Industry and Retail'\n",
      " 'Agriculture and Agrotechnology' 'Waste Management'\n",
      " 'Electricity, Gas and Water Supply, Waste Management'\n",
      " 'Agriculture and Agrotechnology, Industrial Manufacturing'\n",
      " 'Agriculture and Agrotechnology, Other'\n",
      " 'Military, Security and Surveillance, Tourism'\n",
      " 'Electricity, Gas and Water Supply, Military, Security and Surveillance, Renewable Energy'\n",
      " 'Military, Security and Surveillance, Renewable Energy'\n",
      " 'Construction, Electricity, Gas and Water Supply, Heavy Machinery'\n",
      " 'Construction, Heavy Machinery' 'Food Industry, Industrial Manufacturing'\n",
      " 'Agriculture and Agrotechnology, Food Industry, Tourism'\n",
      " 'Construction, Military, Security and Surveillance'\n",
      " 'Heavy Machinery, Industrial Manufacturing, Transportation'\n",
      " 'Tourism, Transportation'\n",
      " 'Heavy Machinery, Military, Security and Surveillance, Service Industry and Retail'\n",
      " 'Construction, Renewable Energy, Tourism'\n",
      " 'Electricity, Gas and Water Supply, Service Industry and Retail'\n",
      " 'Heavy Machinery, Industrial Manufacturing, Military, Security and Surveillance'\n",
      " 'Electricity, Gas and Water Supply, Finance'\n",
      " 'Construction, Heavy Machinery, Waste Management'\n",
      " 'Construction, Industrial Manufacturing'\n",
      " 'Agriculture and Agrotechnology, Construction, Real Estate'\n",
      " 'Agriculture and Agrotechnology, Electricity, Gas and Water Supply'\n",
      " 'Hi-tech, Industrial Manufacturing' 'Hi-tech, Other, Pharmaceutical'\n",
      " 'Communication, Industrial Manufacturing'\n",
      " 'Industrial Manufacturing, Waste Management'\n",
      " 'Agriculture and Agrotechnology, Service Industry and Retail' nan\n",
      " 'Communication, Hi-tech, Industrial Manufacturing'\n",
      " 'Construction, Electricity, Gas and Water Supply'\n",
      " 'Military, Security and Surveillance, Service Industry and Retail'\n",
      " 'Service Industry and Retail, Transportation'\n",
      " 'Electricity, Gas and Water Supply, Industrial Manufacturing']\n"
     ]
    }
   ],
   "source": [
    "print(df['Sector'].unique())"
   ]
  },
  {
   "cell_type": "code",
   "execution_count": 15,
   "id": "10e64d9f",
   "metadata": {},
   "outputs": [
    {
     "name": "stdout",
     "output_type": "stream",
     "text": [
      "[nan 'Sweden' 'Denmark' 'Israel' 'USA' 'Italy'\n",
      " 'Occupied Palestinian Territory' 'Spain' 'Japan' 'Netherlands'\n",
      " 'South Korea' 'France' 'UK' 'Canada' 'Germany' 'Israel, USA'\n",
      " 'Israel, Occupied Palestinian Territory' 'Singapore'\n",
      " 'Occupied Syrian Golan' 'Portugal' 'Liechtenstein' 'Belgium' 'China'\n",
      " 'Israel, Occupied Syrian Golan' 'Ireland' 'Israel, Netherlands'\n",
      " 'Switzerland' 'Turkey' 'Israel, South Africa' 'Luxembourg' 'Mexico'\n",
      " 'Netherlands, UK' 'Germany, Switzerland' 'Sweden, Switzerland']\n"
     ]
    }
   ],
   "source": [
    "print(df['Main Headquaters'].unique())"
   ]
  },
  {
   "cell_type": "code",
   "execution_count": null,
   "id": "d2277e67",
   "metadata": {},
   "outputs": [],
   "source": []
  },
  {
   "cell_type": "code",
   "execution_count": null,
   "id": "a7fc22be",
   "metadata": {},
   "outputs": [],
   "source": []
  }
 ],
 "metadata": {
  "kernelspec": {
   "display_name": "base",
   "language": "python",
   "name": "python3"
  },
  "language_info": {
   "codemirror_mode": {
    "name": "ipython",
    "version": 3
   },
   "file_extension": ".py",
   "mimetype": "text/x-python",
   "name": "python",
   "nbconvert_exporter": "python",
   "pygments_lexer": "ipython3",
   "version": "3.12.3"
  }
 },
 "nbformat": 4,
 "nbformat_minor": 5
}
