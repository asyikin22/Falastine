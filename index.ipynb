{
 "cells": [
  {
   "cell_type": "code",
   "execution_count": 19,
   "id": "4013abd7",
   "metadata": {},
   "outputs": [
    {
     "data": {
      "application/vnd.microsoft.datawrangler.viewer.v0+json": {
       "columns": [
        {
         "name": "index",
         "rawType": "int64",
         "type": "integer"
        },
        {
         "name": "#",
         "rawType": "int64",
         "type": "integer"
        },
        {
         "name": "Company Name",
         "rawType": "object",
         "type": "string"
        },
        {
         "name": "Traded In",
         "rawType": "object",
         "type": "string"
        },
        {
         "name": "Main Headquaters",
         "rawType": "object",
         "type": "string"
        },
        {
         "name": "Involvement",
         "rawType": "object",
         "type": "string"
        },
        {
         "name": "Sector",
         "rawType": "object",
         "type": "string"
        },
        {
         "name": "Revenue",
         "rawType": "object",
         "type": "unknown"
        },
        {
         "name": "Region",
         "rawType": "object",
         "type": "string"
        }
       ],
       "ref": "03b73d42-507c-48db-a3f6-cdf256478966",
       "rows": [
        [
         "0",
         "1",
         "A. Barkan and Co.",
         "Private",
         "Israel",
         "Israeli Construction on Occupied Land",
         "Construction",
         "$5M-$10M",
         "East Jerusalem, West Bank"
        ],
        [
         "1",
         "2",
         "A. Hezi Building and Investment Co.",
         "Private",
         "Israel",
         "Israeli Construction on Occupied Land",
         "Construction",
         "$0M-$1M",
         "East Jerusalem"
        ],
        [
         "2",
         "3",
         "A.B. Plan",
         "Private",
         "Israel",
         "Israeli Construction on Occupied Land",
         "Construction, Transportation",
         null,
         "West Bank"
        ],
        [
         "3",
         "4",
         "Abadi Bakery",
         "Private",
         "Occupied Palestinian Territory",
         "Settlement Production",
         "Service Industry and Retail",
         "$10M-$50M",
         "East Jerusalem, West Bank"
        ],
        [
         "4",
         "5",
         "ABB Group",
         "NASDAQ, NYSE, SIX",
         "Sweden, Switzerland",
         "Exploitation of Occupied Production and Resources, Israeli Construction on Occupied Land, Services to the Settlements",
         "Renewable Energy",
         "$1B-",
         "West Bank"
        ],
        [
         "5",
         "6",
         "Achdut Factory for Tahini Halva and Sweets (Achdut-Achva)",
         "Private",
         "Occupied Palestinian Territory",
         "Exploitation of Labor, Services to the Settlements, Settlement Production",
         "Food Industry",
         "$50M-$100M",
         "West Bank"
        ],
        [
         "6",
         "7",
         "Ackerstein Industries",
         "Private",
         "Israel",
         "Israeli Construction on Occupied Land, Private Security and Surveillance Technology, Specialized Equipment and Services, The Wall and Checkpoints",
         "Construction",
         "$50M-$100M",
         "East Jerusalem, Naqab, West Bank"
        ],
        [
         "7",
         "8",
         "AdaFresh",
         "Private",
         "Israel",
         "Services to the Settlements, Settlement Production",
         "Agriculture and Agrotechnology",
         "$10M-$50M",
         "West Bank"
        ],
        [
         "8",
         "9",
         "Adama",
         "SZSE",
         "China",
         "Services to the Settlements",
         "Agriculture and Agrotechnology",
         "$1B-",
         "Syrian Golan, West Bank"
        ],
        [
         "9",
         "10",
         "Adanim Tea Company (1991)",
         "Private",
         "Israel",
         "Exploitation of Occupied Production and Resources",
         "Agriculture and Agrotechnology, Food Industry",
         "$1M-$5M",
         "West Bank"
        ]
       ],
       "shape": {
        "columns": 8,
        "rows": 10
       }
      },
      "text/html": [
       "<div>\n",
       "<style scoped>\n",
       "    .dataframe tbody tr th:only-of-type {\n",
       "        vertical-align: middle;\n",
       "    }\n",
       "\n",
       "    .dataframe tbody tr th {\n",
       "        vertical-align: top;\n",
       "    }\n",
       "\n",
       "    .dataframe thead th {\n",
       "        text-align: right;\n",
       "    }\n",
       "</style>\n",
       "<table border=\"1\" class=\"dataframe\">\n",
       "  <thead>\n",
       "    <tr style=\"text-align: right;\">\n",
       "      <th></th>\n",
       "      <th>#</th>\n",
       "      <th>Company Name</th>\n",
       "      <th>Traded In</th>\n",
       "      <th>Main Headquaters</th>\n",
       "      <th>Involvement</th>\n",
       "      <th>Sector</th>\n",
       "      <th>Revenue</th>\n",
       "      <th>Region</th>\n",
       "    </tr>\n",
       "  </thead>\n",
       "  <tbody>\n",
       "    <tr>\n",
       "      <th>0</th>\n",
       "      <td>1</td>\n",
       "      <td>A. Barkan and Co.</td>\n",
       "      <td>Private</td>\n",
       "      <td>Israel</td>\n",
       "      <td>Israeli Construction on Occupied Land</td>\n",
       "      <td>Construction</td>\n",
       "      <td>$5M-$10M</td>\n",
       "      <td>East Jerusalem, West Bank</td>\n",
       "    </tr>\n",
       "    <tr>\n",
       "      <th>1</th>\n",
       "      <td>2</td>\n",
       "      <td>A. Hezi Building and Investment Co.</td>\n",
       "      <td>Private</td>\n",
       "      <td>Israel</td>\n",
       "      <td>Israeli Construction on Occupied Land</td>\n",
       "      <td>Construction</td>\n",
       "      <td>$0M-$1M</td>\n",
       "      <td>East Jerusalem</td>\n",
       "    </tr>\n",
       "    <tr>\n",
       "      <th>2</th>\n",
       "      <td>3</td>\n",
       "      <td>A.B. Plan</td>\n",
       "      <td>Private</td>\n",
       "      <td>Israel</td>\n",
       "      <td>Israeli Construction on Occupied Land</td>\n",
       "      <td>Construction, Transportation</td>\n",
       "      <td>NaN</td>\n",
       "      <td>West Bank</td>\n",
       "    </tr>\n",
       "    <tr>\n",
       "      <th>3</th>\n",
       "      <td>4</td>\n",
       "      <td>Abadi Bakery</td>\n",
       "      <td>Private</td>\n",
       "      <td>Occupied Palestinian Territory</td>\n",
       "      <td>Settlement Production</td>\n",
       "      <td>Service Industry and Retail</td>\n",
       "      <td>$10M-$50M</td>\n",
       "      <td>East Jerusalem, West Bank</td>\n",
       "    </tr>\n",
       "    <tr>\n",
       "      <th>4</th>\n",
       "      <td>5</td>\n",
       "      <td>ABB Group</td>\n",
       "      <td>NASDAQ, NYSE, SIX</td>\n",
       "      <td>Sweden, Switzerland</td>\n",
       "      <td>Exploitation of Occupied Production and Resour...</td>\n",
       "      <td>Renewable Energy</td>\n",
       "      <td>$1B-</td>\n",
       "      <td>West Bank</td>\n",
       "    </tr>\n",
       "    <tr>\n",
       "      <th>5</th>\n",
       "      <td>6</td>\n",
       "      <td>Achdut Factory for Tahini Halva and Sweets (Ac...</td>\n",
       "      <td>Private</td>\n",
       "      <td>Occupied Palestinian Territory</td>\n",
       "      <td>Exploitation of Labor, Services to the Settlem...</td>\n",
       "      <td>Food Industry</td>\n",
       "      <td>$50M-$100M</td>\n",
       "      <td>West Bank</td>\n",
       "    </tr>\n",
       "    <tr>\n",
       "      <th>6</th>\n",
       "      <td>7</td>\n",
       "      <td>Ackerstein Industries</td>\n",
       "      <td>Private</td>\n",
       "      <td>Israel</td>\n",
       "      <td>Israeli Construction on Occupied Land, Private...</td>\n",
       "      <td>Construction</td>\n",
       "      <td>$50M-$100M</td>\n",
       "      <td>East Jerusalem, Naqab, West Bank</td>\n",
       "    </tr>\n",
       "    <tr>\n",
       "      <th>7</th>\n",
       "      <td>8</td>\n",
       "      <td>AdaFresh</td>\n",
       "      <td>Private</td>\n",
       "      <td>Israel</td>\n",
       "      <td>Services to the Settlements, Settlement Produc...</td>\n",
       "      <td>Agriculture and Agrotechnology</td>\n",
       "      <td>$10M-$50M</td>\n",
       "      <td>West Bank</td>\n",
       "    </tr>\n",
       "    <tr>\n",
       "      <th>8</th>\n",
       "      <td>9</td>\n",
       "      <td>Adama</td>\n",
       "      <td>SZSE</td>\n",
       "      <td>China</td>\n",
       "      <td>Services to the Settlements</td>\n",
       "      <td>Agriculture and Agrotechnology</td>\n",
       "      <td>$1B-</td>\n",
       "      <td>Syrian Golan, West Bank</td>\n",
       "    </tr>\n",
       "    <tr>\n",
       "      <th>9</th>\n",
       "      <td>10</td>\n",
       "      <td>Adanim Tea Company (1991)</td>\n",
       "      <td>Private</td>\n",
       "      <td>Israel</td>\n",
       "      <td>Exploitation of Occupied Production and Resources</td>\n",
       "      <td>Agriculture and Agrotechnology, Food Industry</td>\n",
       "      <td>$1M-$5M</td>\n",
       "      <td>West Bank</td>\n",
       "    </tr>\n",
       "  </tbody>\n",
       "</table>\n",
       "</div>"
      ],
      "text/plain": [
       "    #                                       Company Name          Traded In  \\\n",
       "0   1                                  A. Barkan and Co.            Private   \n",
       "1   2                A. Hezi Building and Investment Co.            Private   \n",
       "2   3                                          A.B. Plan            Private   \n",
       "3   4                                       Abadi Bakery            Private   \n",
       "4   5                                          ABB Group  NASDAQ, NYSE, SIX   \n",
       "5   6  Achdut Factory for Tahini Halva and Sweets (Ac...            Private   \n",
       "6   7                              Ackerstein Industries            Private   \n",
       "7   8                                           AdaFresh            Private   \n",
       "8   9                                              Adama               SZSE   \n",
       "9  10                          Adanim Tea Company (1991)            Private   \n",
       "\n",
       "                 Main Headquaters  \\\n",
       "0                          Israel   \n",
       "1                          Israel   \n",
       "2                          Israel   \n",
       "3  Occupied Palestinian Territory   \n",
       "4             Sweden, Switzerland   \n",
       "5  Occupied Palestinian Territory   \n",
       "6                          Israel   \n",
       "7                          Israel   \n",
       "8                           China   \n",
       "9                          Israel   \n",
       "\n",
       "                                         Involvement  \\\n",
       "0              Israeli Construction on Occupied Land   \n",
       "1              Israeli Construction on Occupied Land   \n",
       "2              Israeli Construction on Occupied Land   \n",
       "3                              Settlement Production   \n",
       "4  Exploitation of Occupied Production and Resour...   \n",
       "5  Exploitation of Labor, Services to the Settlem...   \n",
       "6  Israeli Construction on Occupied Land, Private...   \n",
       "7  Services to the Settlements, Settlement Produc...   \n",
       "8                        Services to the Settlements   \n",
       "9  Exploitation of Occupied Production and Resources   \n",
       "\n",
       "                                          Sector     Revenue  \\\n",
       "0                                   Construction    $5M-$10M   \n",
       "1                                   Construction     $0M-$1M   \n",
       "2                   Construction, Transportation         NaN   \n",
       "3                    Service Industry and Retail   $10M-$50M   \n",
       "4                               Renewable Energy        $1B-   \n",
       "5                                  Food Industry  $50M-$100M   \n",
       "6                                   Construction  $50M-$100M   \n",
       "7                 Agriculture and Agrotechnology   $10M-$50M   \n",
       "8                 Agriculture and Agrotechnology        $1B-   \n",
       "9  Agriculture and Agrotechnology, Food Industry     $1M-$5M   \n",
       "\n",
       "                             Region  \n",
       "0         East Jerusalem, West Bank  \n",
       "1                    East Jerusalem  \n",
       "2                         West Bank  \n",
       "3         East Jerusalem, West Bank  \n",
       "4                         West Bank  \n",
       "5                         West Bank  \n",
       "6  East Jerusalem, Naqab, West Bank  \n",
       "7                         West Bank  \n",
       "8           Syrian Golan, West Bank  \n",
       "9                         West Bank  "
      ]
     },
     "execution_count": 19,
     "metadata": {},
     "output_type": "execute_result"
    }
   ],
   "source": [
    "import pandas as pd\n",
    "df = pd.read_excel(\"Companies_2.xlsx\")\n",
    "df.head(10)\n"
   ]
  },
  {
   "cell_type": "code",
   "execution_count": 20,
   "id": "594a2763",
   "metadata": {},
   "outputs": [
    {
     "name": "stdout",
     "output_type": "stream",
     "text": [
      "<class 'pandas.core.frame.DataFrame'>\n",
      "RangeIndex: 463 entries, 0 to 462\n",
      "Data columns (total 8 columns):\n",
      " #   Column            Non-Null Count  Dtype \n",
      "---  ------            --------------  ----- \n",
      " 0   #                 463 non-null    int64 \n",
      " 1   Company Name      463 non-null    object\n",
      " 2   Traded In         458 non-null    object\n",
      " 3   Main Headquaters  460 non-null    object\n",
      " 4   Involvement       463 non-null    object\n",
      " 5   Sector            461 non-null    object\n",
      " 6   Revenue           335 non-null    object\n",
      " 7   Region            424 non-null    object\n",
      "dtypes: int64(1), object(7)\n",
      "memory usage: 29.1+ KB\n"
     ]
    }
   ],
   "source": [
    "df.info()"
   ]
  },
  {
   "cell_type": "code",
   "execution_count": 21,
   "id": "f6271460",
   "metadata": {},
   "outputs": [
    {
     "data": {
      "text/plain": [
       "Index(['#', 'Company Name', 'Traded In', 'Main Headquaters', 'Involvement',\n",
       "       'Sector', 'Revenue', 'Region'],\n",
       "      dtype='object')"
      ]
     },
     "execution_count": 21,
     "metadata": {},
     "output_type": "execute_result"
    }
   ],
   "source": [
    "df.columns"
   ]
  },
  {
   "cell_type": "code",
   "execution_count": 22,
   "id": "a4ed661a",
   "metadata": {},
   "outputs": [
    {
     "data": {
      "application/vnd.microsoft.datawrangler.viewer.v0+json": {
       "columns": [
        {
         "name": "index",
         "rawType": "object",
         "type": "string"
        },
        {
         "name": "#",
         "rawType": "float64",
         "type": "float"
        }
       ],
       "ref": "e9080c8e-761a-4e2a-b6b5-c8af3b9d5513",
       "rows": [
        [
         "count",
         "463.0"
        ],
        [
         "mean",
         "232.0"
        ],
        [
         "std",
         "133.8008470326951"
        ],
        [
         "min",
         "1.0"
        ],
        [
         "25%",
         "116.5"
        ],
        [
         "50%",
         "232.0"
        ],
        [
         "75%",
         "347.5"
        ],
        [
         "max",
         "463.0"
        ]
       ],
       "shape": {
        "columns": 1,
        "rows": 8
       }
      },
      "text/html": [
       "<div>\n",
       "<style scoped>\n",
       "    .dataframe tbody tr th:only-of-type {\n",
       "        vertical-align: middle;\n",
       "    }\n",
       "\n",
       "    .dataframe tbody tr th {\n",
       "        vertical-align: top;\n",
       "    }\n",
       "\n",
       "    .dataframe thead th {\n",
       "        text-align: right;\n",
       "    }\n",
       "</style>\n",
       "<table border=\"1\" class=\"dataframe\">\n",
       "  <thead>\n",
       "    <tr style=\"text-align: right;\">\n",
       "      <th></th>\n",
       "      <th>#</th>\n",
       "    </tr>\n",
       "  </thead>\n",
       "  <tbody>\n",
       "    <tr>\n",
       "      <th>count</th>\n",
       "      <td>463.000000</td>\n",
       "    </tr>\n",
       "    <tr>\n",
       "      <th>mean</th>\n",
       "      <td>232.000000</td>\n",
       "    </tr>\n",
       "    <tr>\n",
       "      <th>std</th>\n",
       "      <td>133.800847</td>\n",
       "    </tr>\n",
       "    <tr>\n",
       "      <th>min</th>\n",
       "      <td>1.000000</td>\n",
       "    </tr>\n",
       "    <tr>\n",
       "      <th>25%</th>\n",
       "      <td>116.500000</td>\n",
       "    </tr>\n",
       "    <tr>\n",
       "      <th>50%</th>\n",
       "      <td>232.000000</td>\n",
       "    </tr>\n",
       "    <tr>\n",
       "      <th>75%</th>\n",
       "      <td>347.500000</td>\n",
       "    </tr>\n",
       "    <tr>\n",
       "      <th>max</th>\n",
       "      <td>463.000000</td>\n",
       "    </tr>\n",
       "  </tbody>\n",
       "</table>\n",
       "</div>"
      ],
      "text/plain": [
       "                #\n",
       "count  463.000000\n",
       "mean   232.000000\n",
       "std    133.800847\n",
       "min      1.000000\n",
       "25%    116.500000\n",
       "50%    232.000000\n",
       "75%    347.500000\n",
       "max    463.000000"
      ]
     },
     "execution_count": 22,
     "metadata": {},
     "output_type": "execute_result"
    }
   ],
   "source": [
    "df.describe()"
   ]
  },
  {
   "cell_type": "code",
   "execution_count": 23,
   "id": "33e366fe",
   "metadata": {},
   "outputs": [
    {
     "data": {
      "application/vnd.microsoft.datawrangler.viewer.v0+json": {
       "columns": [
        {
         "name": "index",
         "rawType": "object",
         "type": "string"
        },
        {
         "name": "0",
         "rawType": "int64",
         "type": "integer"
        }
       ],
       "ref": "26f30ff4-cbda-4a37-9242-73a7c6c391db",
       "rows": [
        [
         "#",
         "0"
        ],
        [
         "Company Name",
         "0"
        ],
        [
         "Traded In",
         "5"
        ],
        [
         "Main Headquaters",
         "3"
        ],
        [
         "Involvement",
         "0"
        ],
        [
         "Sector",
         "2"
        ],
        [
         "Revenue",
         "128"
        ],
        [
         "Region",
         "39"
        ]
       ],
       "shape": {
        "columns": 1,
        "rows": 8
       }
      },
      "text/plain": [
       "#                     0\n",
       "Company Name          0\n",
       "Traded In             5\n",
       "Main Headquaters      3\n",
       "Involvement           0\n",
       "Sector                2\n",
       "Revenue             128\n",
       "Region               39\n",
       "dtype: int64"
      ]
     },
     "execution_count": 23,
     "metadata": {},
     "output_type": "execute_result"
    }
   ],
   "source": [
    "# check for missing values\n",
    "\n",
    "df.isnull().sum()"
   ]
  },
  {
   "cell_type": "code",
   "execution_count": 24,
   "id": "06137d34",
   "metadata": {},
   "outputs": [
    {
     "name": "stdout",
     "output_type": "stream",
     "text": [
      "['East Jerusalem, West Bank' 'East Jerusalem' 'West Bank'\n",
      " 'East Jerusalem, Naqab, West Bank' 'Syrian Golan, West Bank'\n",
      " 'East Jerusalem, Gaza, Syrian Golan, West Bank'\n",
      " 'East Jerusalem, Gaza, West Bank' 'Syrian Golan'\n",
      " 'Jordan Valley, Syrian Golan, West Bank'\n",
      " 'Gaza, Naqab, Syrian Golan, West Bank'\n",
      " 'East Jerusalem, Syrian Golan, West Bank' nan 'Jordan Valley, West Bank'\n",
      " 'Naqab, Syrian Golan, West Bank' 'Gaza, West Bank'\n",
      " 'Gaza, Syrian Golan, West Bank' 'East Jerusalem, Gaza, Naqab, West Bank'\n",
      " 'East Jerusalem, Naqab, Syrian Golan, West Bank'\n",
      " 'East Jerusalem, Gaza, Naqab, Syrian Golan, West Bank' 'Gaza'\n",
      " 'East Jerusalem, Naqab'\n",
      " 'East Jerusalem, Jordan Valley, Naqab, Syrian Golan, West Bank'\n",
      " 'Naqab, West Bank' 'Naqab, Syrian Golan' 'Gaza, Syrian Golan'\n",
      " 'Gaza, Naqab, West Bank' 'East Jerusalem, Gaza, Naqab, Syrian Golan'\n",
      " 'Jordan Valley' 'East Jerusalem, Gaza, Syrian Golan'\n",
      " 'Gaza, Jordan Valley, Syrian Golan, West Bank'\n",
      " 'East Jerusalem, Jordan Valley, Syrian Golan, West Bank']\n"
     ]
    }
   ],
   "source": [
    "#check for unqiue values\n",
    "print(df['Region'].unique())"
   ]
  },
  {
   "cell_type": "code",
   "execution_count": 25,
   "id": "bb741dde",
   "metadata": {},
   "outputs": [
    {
     "name": "stdout",
     "output_type": "stream",
     "text": [
      "['Construction' 'Construction, Transportation'\n",
      " 'Service Industry and Retail' 'Renewable Energy' 'Food Industry'\n",
      " 'Agriculture and Agrotechnology'\n",
      " 'Agriculture and Agrotechnology, Food Industry'\n",
      " 'Hi-tech, Military, Security and Surveillance'\n",
      " 'Military, Security and Surveillance' 'Electricity, Gas and Water Supply'\n",
      " 'Industrial Manufacturing' 'Tourism'\n",
      " 'Service Industry and Retail, Transportation' 'Hi-tech, Waste Management'\n",
      " 'Communication' 'Heavy Machinery' 'Transportation' 'Real Estate'\n",
      " 'Electricity, Gas and Water Supply, Waste Management'\n",
      " 'Food Industry, Service Industry and Retail' 'Construction, Real Estate'\n",
      " 'Agriculture and Agrotechnology, Food Industry, Tourism'\n",
      " 'Heavy Machinery, Industrial Manufacturing'\n",
      " 'Construction, Heavy Machinery' 'Other'\n",
      " 'Electricity, Gas and Water Supply, Renewable Energy' 'Finance'\n",
      " 'Heavy Machinery, Industrial Manufacturing, Military, Security and Surveillance'\n",
      " 'Construction, Heavy Machinery, Waste Management'\n",
      " 'Communication, Hi-tech, Industrial Manufacturing'\n",
      " 'Communication, Military, Security and Surveillance'\n",
      " 'Military, Security and Surveillance, Tourism'\n",
      " 'Agriculture and Agrotechnology, Other' 'Communication, Hi-tech'\n",
      " 'Waste Management' 'Construction, Military, Security and Surveillance'\n",
      " 'Construction, Renewable Energy, Tourism'\n",
      " 'Electricity, Gas and Water Supply, Service Industry and Retail'\n",
      " 'Hi-tech' 'Industrial Manufacturing, Service Industry and Retail'\n",
      " 'Pharmaceutical' 'Hi-tech, Industrial Manufacturing'\n",
      " 'Tourism, Transportation' 'Construction, Real Estate, Transportation'\n",
      " 'Electricity, Gas and Water Supply, Industrial Manufacturing'\n",
      " 'Military, Security and Surveillance, Renewable Energy' nan\n",
      " 'Agriculture and Agrotechnology, Service Industry and Retail'\n",
      " 'Agriculture and Agrotechnology, Industrial Manufacturing'\n",
      " 'Construction, Electricity, Gas and Water Supply, Heavy Machinery'\n",
      " 'Heavy Machinery, Other'\n",
      " 'Heavy Machinery, Military, Security and Surveillance'\n",
      " 'Food Industry, Industrial Manufacturing'\n",
      " 'Electricity, Gas and Water Supply, Finance'\n",
      " 'Industrial Manufacturing, Military, Security and Surveillance'\n",
      " 'Construction, Electricity, Gas and Water Supply, Transportation'\n",
      " 'Construction, Electricity, Gas and Water Supply'\n",
      " 'Heavy Machinery, Transportation'\n",
      " 'Construction, Industrial Manufacturing'\n",
      " 'Heavy Machinery, Industrial Manufacturing, Transportation'\n",
      " 'Electricity, Gas and Water Supply, Food Industry'\n",
      " 'Hi-tech, Other, Pharmaceutical'\n",
      " 'Electricity, Gas and Water Supply, Military, Security and Surveillance, Renewable Energy'\n",
      " 'Industrial Manufacturing, Waste Management'\n",
      " 'Communication, Industrial Manufacturing'\n",
      " 'Communication, Food Industry, Service Industry and Retail'\n",
      " 'Construction, Electricity, Gas and Water Supply, Real Estate'\n",
      " 'Construction, Real Estate, Renewable Energy'\n",
      " 'Finance, Service Industry and Retail, Tourism'\n",
      " 'Industrial Manufacturing, Transportation'\n",
      " 'Military, Security and Surveillance, Service Industry and Retail'\n",
      " 'Agriculture and Agrotechnology, Construction, Real Estate'\n",
      " 'Heavy Machinery, Military, Security and Surveillance, Service Industry and Retail'\n",
      " 'Agriculture and Agrotechnology, Electricity, Gas and Water Supply'\n",
      " 'Construction, Waste Management']\n"
     ]
    }
   ],
   "source": [
    "print(df['Sector'].unique())"
   ]
  },
  {
   "cell_type": "code",
   "execution_count": 26,
   "id": "10e64d9f",
   "metadata": {},
   "outputs": [
    {
     "name": "stdout",
     "output_type": "stream",
     "text": [
      "['Israel' 'Occupied Palestinian Territory' 'Sweden, Switzerland' 'China'\n",
      " 'Israel, Occupied Syrian Golan' 'USA' 'Canada'\n",
      " 'Israel, Occupied Palestinian Territory' 'Luxembourg' 'Italy' nan\n",
      " 'Occupied Syrian Golan' 'Sweden' 'Germany' 'Netherlands' 'Spain' 'Mexico'\n",
      " 'France' 'Netherlands, UK' 'Israel, USA' 'UK' 'Switzerland' 'South Korea'\n",
      " 'Turkey' 'Japan' 'Germany, Switzerland' 'Denmark' 'Israel, South Africa'\n",
      " 'Ireland' 'Singapore' 'Belgium' 'Portugal' 'Liechtenstein'\n",
      " 'Israel, Netherlands']\n"
     ]
    }
   ],
   "source": [
    "print(df['Main Headquaters'].unique())"
   ]
  },
  {
   "cell_type": "code",
   "execution_count": 30,
   "id": "d2277e67",
   "metadata": {},
   "outputs": [],
   "source": [
    "# df[df['Company Name'].str.contains('microsoft', case=False, na=False)]\n"
   ]
  },
  {
   "cell_type": "code",
   "execution_count": 37,
   "id": "feb3467c",
   "metadata": {},
   "outputs": [
    {
     "name": "stdout",
     "output_type": "stream",
     "text": [
      "30\n",
      "Main Headquaters\n",
      "Israel                                    271\n",
      "Occupied Palestinian Territory             56\n",
      "USA                                        30\n",
      "Israel, Occupied Palestinian Territory     20\n",
      "Germany                                    14\n",
      "Occupied Syrian Golan                       9\n",
      "Italy                                       8\n",
      "China                                       5\n",
      "Spain                                       5\n",
      "Japan                                       4\n",
      "Name: count, dtype: int64\n"
     ]
    }
   ],
   "source": [
    "#count of companies by HQ country\n",
    "\n",
    "NoOfCountries = df['Region'].nunique()\n",
    "print(NoOfCountries)\n",
    "\n",
    "HQcounts = df['Main Headquaters'].value_counts()\n",
    "print(HQcounts.head(10))"
   ]
  },
  {
   "cell_type": "code",
   "execution_count": null,
   "id": "a7fc22be",
   "metadata": {},
   "outputs": [],
   "source": []
  }
 ],
 "metadata": {
  "kernelspec": {
   "display_name": "base",
   "language": "python",
   "name": "python3"
  },
  "language_info": {
   "codemirror_mode": {
    "name": "ipython",
    "version": 3
   },
   "file_extension": ".py",
   "mimetype": "text/x-python",
   "name": "python",
   "nbconvert_exporter": "python",
   "pygments_lexer": "ipython3",
   "version": "3.12.3"
  }
 },
 "nbformat": 4,
 "nbformat_minor": 5
}
